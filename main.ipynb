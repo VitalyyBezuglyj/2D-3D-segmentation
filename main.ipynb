{
 "cells": [
  {
   "cell_type": "code",
   "execution_count": 1,
   "metadata": {},
   "outputs": [],
   "source": [
    "from src.config import get_config_notebook"
   ]
  },
  {
   "cell_type": "code",
   "execution_count": 2,
   "metadata": {},
   "outputs": [
    {
     "name": "stdout",
     "output_type": "stream",
     "text": [
      "{'cam_config_path': '/home/kowalski/data/MIPT_campus/cam.yml',\n",
      " 'cloud_dir_path': '/home/kowalski/data/MIPT_campus/unpacked_2023-02-21-07-28-58-day/velodyne_points/clouds/demo',\n",
      " 'cloud_filenames_path': '/home/kowalski/data/MIPT_campus/unpacked_2023-02-21-07-28-58-day/velodyne_points/filenames.txt',\n",
      " 'cloud_ts_path': '/home/kowalski/data/MIPT_campus/unpacked_2023-02-21-07-28-58-day/velodyne_points/timestamps.txt',\n",
      " 'dataset_root_dir': '/home/kowalski/data/MIPT_campus/',\n",
      " 'img_dir_path': '/home/kowalski/data/MIPT_campus/unpacked_2023-02-21-07-28-58-day/zed_node_left_image_rect_color_compressed/images/demo',\n",
      " 'img_filenames_path': '/home/kowalski/data/MIPT_campus/unpacked_2023-02-21-07-28-58-day/zed_node_left_image_rect_color_compressed/filenames.txt',\n",
      " 'img_ts_path': '/home/kowalski/data/MIPT_campus/unpacked_2023-02-21-07-28-58-day/zed_node_left_image_rect_color_compressed/timestamps.txt',\n",
      " 'lidar2cam_q': [-0.5098432024259881,\n",
      "                 -0.497602232228181,\n",
      "                 0.49791462150659926,\n",
      "                 -0.4945027372133386],\n",
      " 'lidar2cam_t': [0.04632155672047202,\n",
      "                 -0.1327858803524132,\n",
      "                 -0.06092748914769486],\n",
      " 'lidar_lower_bounds': [-50, -50, -50],\n",
      " 'lidar_upper_bounds': [50, 50, 50],\n",
      " 'logging_level': 'DEBUG',\n",
      " 'max_ts_delay': 5e-05,\n",
      " 'segmask_dir_path': '/home/kowalski/data/MIPT_campus/unpacked_2023-02-21-07-28-58-day/zed_node_left_image_rect_color_compressed/anno_demo',\n",
      " 'segmentation_config': '/home/kowalski/data/MIPT_campus/anno_config.json',\n",
      " 'sequence': '2023-02-21-07-28-58-day',\n",
      " 'tf_path': ''}\n",
      "Please check the above information for the configurations\n"
     ]
    }
   ],
   "source": [
    "cfg = get_config_notebook('/home/kowalski/3d_maps/2D-3D-segmentation/config/mipt_campus_day.yaml')"
   ]
  },
  {
   "cell_type": "code",
   "execution_count": 3,
   "metadata": {},
   "outputs": [
    {
     "name": "stdout",
     "output_type": "stream",
     "text": [
      "/home/kowalski/data/MIPT_campus/unpacked_2023-02-21-07-28-58-day/velodyne_points/clouds/*.bin\n"
     ]
    }
   ],
   "source": [
    "from src.dataset import MIPT_Campus_Dataset\n",
    "\n",
    "dataset = MIPT_Campus_Dataset(cfg)"
   ]
  },
  {
   "cell_type": "code",
   "execution_count": 10,
   "metadata": {},
   "outputs": [],
   "source": [
    "from src.visualize import imshow, cloudshow"
   ]
  },
  {
   "cell_type": "code",
   "execution_count": 8,
   "metadata": {},
   "outputs": [
    {
     "data": {
      "text/plain": [
       "[]"
      ]
     },
     "execution_count": 8,
     "metadata": {},
     "output_type": "execute_result"
    }
   ],
   "source": [
    "dataset.zed_left_files"
   ]
  },
  {
   "cell_type": "code",
   "execution_count": 6,
   "metadata": {},
   "outputs": [],
   "source": [
    "s, zl, rl, zm, rm = None, None, None, None, None\n",
    "for scan, z_left, r_left, z_mask, r_mask in dataset:\n",
    "    print(\"gg\")\n",
    "    s, zl, rl, zm, rm = scan, z_left, r_left, z_mask, r_mask\n",
    "    break"
   ]
  },
  {
   "cell_type": "code",
   "execution_count": 7,
   "metadata": {},
   "outputs": [
    {
     "ename": "TypeError",
     "evalue": "'NoneType' object is not subscriptable",
     "output_type": "error",
     "traceback": [
      "\u001b[0;31m---------------------------------------------------------------------------\u001b[0m",
      "\u001b[0;31mTypeError\u001b[0m                                 Traceback (most recent call last)",
      "Cell \u001b[0;32mIn[7], line 1\u001b[0m\n\u001b[0;32m----> 1\u001b[0m cloudshow(s)\n",
      "File \u001b[0;32m~/3d_maps/2D-3D-segmentation/src/visualize.py:41\u001b[0m, in \u001b[0;36mcloudshow\u001b[0;34m(cloud, colors)\u001b[0m\n\u001b[1;32m     38\u001b[0m colored \u001b[39m=\u001b[39m \u001b[39mnot\u001b[39;00m colors \u001b[39mis\u001b[39;00m \u001b[39mNone\u001b[39;00m\n\u001b[1;32m     40\u001b[0m \u001b[39mif\u001b[39;00m \u001b[39mnot\u001b[39;00m colored:\n\u001b[0;32m---> 41\u001b[0m     colors \u001b[39m=\u001b[39m cloud[:,\u001b[39m2\u001b[39;49m]\n\u001b[1;32m     42\u001b[0m     colorscale \u001b[39m=\u001b[39m \u001b[39m'\u001b[39m\u001b[39mViridis\u001b[39m\u001b[39m'\u001b[39m\n\u001b[1;32m     43\u001b[0m     label\u001b[39m=\u001b[39m\u001b[39mNone\u001b[39;00m\n",
      "\u001b[0;31mTypeError\u001b[0m: 'NoneType' object is not subscriptable"
     ]
    }
   ],
   "source": [
    "cloudshow(s)"
   ]
  },
  {
   "cell_type": "code",
   "execution_count": null,
   "metadata": {},
   "outputs": [],
   "source": []
  }
 ],
 "metadata": {
  "kernelspec": {
   "display_name": "3dsemseg",
   "language": "python",
   "name": "python3"
  },
  "language_info": {
   "codemirror_mode": {
    "name": "ipython",
    "version": 3
   },
   "file_extension": ".py",
   "mimetype": "text/x-python",
   "name": "python",
   "nbconvert_exporter": "python",
   "pygments_lexer": "ipython3",
   "version": "3.8.16"
  },
  "orig_nbformat": 4
 },
 "nbformat": 4,
 "nbformat_minor": 2
}
